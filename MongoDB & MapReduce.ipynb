{
 "cells": [
  {
   "cell_type": "markdown",
   "metadata": {},
   "source": [
    "<b>Section 2 - Group 10<br><br>\n",
    "    Team Members:</b>\n",
    "    \n",
    "Vardhini Manivannan <br>\n",
    "Chee Chee Hsu <br>\n",
    "Khaled Khaled <br>\n",
    "Nan Liang"
   ]
  },
  {
   "cell_type": "code",
   "execution_count": 1,
   "metadata": {},
   "outputs": [],
   "source": [
    "# Import all required packages\n",
    "from pymongo import MongoClient\n",
    "from pprint import pprint\n",
    "import json"
   ]
  },
  {
   "cell_type": "markdown",
   "metadata": {},
   "source": [
    "<b> Create a MongoDB database called \"amazon\". </b>"
   ]
  },
  {
   "cell_type": "code",
   "execution_count": 2,
   "metadata": {},
   "outputs": [],
   "source": [
    "# Connects to the mongodb running on localhost at port 27017\n",
    "connection = MongoClient('localhost', 27017)\n",
    "\n",
    "# Creates a database names amazon\n",
    "db = connection.amazon"
   ]
  },
  {
   "cell_type": "markdown",
   "metadata": {},
   "source": [
    "<b> Read \"reviews_electronics.16.json\" and upload each review as a separate document to the collection \"reviews\" in the database \"amazon\". </b>"
   ]
  },
  {
   "cell_type": "code",
   "execution_count": 3,
   "metadata": {},
   "outputs": [],
   "source": [
    "# Reads the file data\n",
    "with open(\"reviews_electronics.16.json\", \"r\") as file:\n",
    "    data = file.readlines()"
   ]
  },
  {
   "cell_type": "code",
   "execution_count": 4,
   "metadata": {},
   "outputs": [],
   "source": [
    "# Loops over the data and inserts each line as a document to the database\n",
    "for i in range(len(data)):\n",
    "    db.reviews.insert_one(json.loads(data[i]))"
   ]
  },
  {
   "cell_type": "markdown",
   "metadata": {},
   "source": [
    "<b>Use MongoDB's map reduce function to build a new collection \"avg_scores\" that averages review scores by product (\"asin\"). Print the first 100 entries of \"avg_scores\" to screen.</b>"
   ]
  },
  {
   "cell_type": "code",
   "execution_count": 5,
   "metadata": {},
   "outputs": [],
   "source": [
    "avg_scores = db.reviews.map_reduce(\n",
    "    \"function() {emit(this.asin, this.overall);}\",\n",
    "    \"function(key, values) {return Array.avg(values)}\",\n",
    "    \"avg_scores\")"
   ]
  },
  {
   "cell_type": "code",
   "execution_count": 6,
   "metadata": {},
   "outputs": [
    {
     "name": "stdout",
     "output_type": "stream",
     "text": [
      "{'_id': '0132793040', 'value': 5.0}\n",
      "{'_id': 'B00E4KP4W6', 'value': 4.545454545454546}\n",
      "{'_id': 'B00E4KP8VI', 'value': 5.0}\n",
      "{'_id': 'B00E4KPMC8', 'value': 2.0}\n",
      "{'_id': 'B00E4KQ5C4', 'value': 5.0}\n",
      "{'_id': 'B00E4KQ9GG', 'value': 3.285714285714286}\n",
      "{'_id': 'B00E4KQ9K2', 'value': 5.0}\n",
      "{'_id': 'B00E4KQD4E', 'value': 4.0}\n",
      "{'_id': 'B00E4KZBX8', 'value': 4.0}\n",
      "{'_id': 'B00E4KZDJ0', 'value': 5.0}\n",
      "{'_id': 'B00E4L35DA', 'value': 4.0}\n",
      "{'_id': 'B00E4L3N9Q', 'value': 4.0}\n",
      "{'_id': 'B00E4L48EA', 'value': 5.0}\n",
      "{'_id': 'B00E4L7FLI', 'value': 1.0}\n",
      "{'_id': 'B00E4L7TS2', 'value': 4.0}\n",
      "{'_id': 'B00E4LAL82', 'value': 3.0}\n",
      "{'_id': 'B00E4LBZZK', 'value': 5.0}\n",
      "{'_id': 'B00E4LF2Z4', 'value': 4.333333333333333}\n",
      "{'_id': 'B00E4LFP0G', 'value': 4.444444444444445}\n",
      "{'_id': 'B00E4LFWWW', 'value': 4.4}\n",
      "{'_id': 'B00E4LGTVU', 'value': 4.17599496983399}\n",
      "{'_id': 'B00E4LGTXS', 'value': 3.923076923076923}\n",
      "{'_id': 'B00E4LGVYA', 'value': 3.272727272727273}\n",
      "{'_id': 'B00E4LGWLW', 'value': 3.5}\n",
      "{'_id': 'B00E4LGXL6', 'value': 5.0}\n",
      "{'_id': 'B00E4LGY88', 'value': 3.842105263157895}\n",
      "{'_id': 'B00E4LI86O', 'value': 1.0}\n",
      "{'_id': 'B00E4LJ8VI', 'value': 1.6666666666666667}\n",
      "{'_id': 'B00E4LQ9B0', 'value': 1.0}\n",
      "{'_id': 'B00E4M2K08', 'value': 5.0}\n",
      "{'_id': 'B00E4M3KW0', 'value': 4.0}\n",
      "{'_id': 'B00E4M9H40', 'value': 3.3333333333333335}\n",
      "{'_id': 'B00E4MC3LO', 'value': 2.0}\n",
      "{'_id': 'B00E4MHBOI', 'value': 3.0}\n",
      "{'_id': 'B00E4ML766', 'value': 5.0}\n",
      "{'_id': 'B00E4MNXYA', 'value': 5.0}\n",
      "{'_id': 'B00E4MQO8C', 'value': 4.933333333333334}\n",
      "{'_id': 'B00E4MQODW', 'value': 2.6666666666666665}\n",
      "{'_id': 'B00E4MQOE6', 'value': 4.611111111111111}\n",
      "{'_id': 'B00E4MT07Y', 'value': 1.6000000000000003}\n",
      "{'_id': 'B00E4MVHTI', 'value': 3.9}\n",
      "{'_id': 'B00E4MYDTY', 'value': 4.538461538461538}\n",
      "{'_id': 'B00E4NC912', 'value': 5.0}\n",
      "{'_id': 'B00E4O3CD0', 'value': 4.0}\n",
      "{'_id': 'B00E4O7EO8', 'value': 4.2}\n",
      "{'_id': 'B00E4OCCJK', 'value': 5.0}\n",
      "{'_id': 'B00E4OCECU', 'value': 3.0}\n",
      "{'_id': 'B00E4OHBNM', 'value': 4.0}\n",
      "{'_id': 'B00E4OHRJ0', 'value': 4.0}\n",
      "{'_id': 'B00E4OI5H8', 'value': 5.0}\n",
      "{'_id': 'B00E4OKJKY', 'value': 5.0}\n",
      "{'_id': 'B00E4OKJUE', 'value': 1.0}\n",
      "{'_id': 'B00E4OKZA8', 'value': 5.0}\n",
      "{'_id': 'B00E4ON1YK', 'value': 5.0}\n",
      "{'_id': 'B00E4OSIO8', 'value': 5.0}\n",
      "{'_id': 'B00E4PM406', 'value': 4.0}\n",
      "{'_id': 'B00E4PMDIO', 'value': 5.0}\n",
      "{'_id': 'B00E4POW42', 'value': 5.0}\n",
      "{'_id': 'B00E4PP8PY', 'value': 4.0}\n",
      "{'_id': 'B00E4QD7D8', 'value': 4.0}\n",
      "{'_id': 'B00E4QM3TC', 'value': 1.0}\n",
      "{'_id': 'B00E4QX5J4', 'value': 2.0}\n",
      "{'_id': 'B00E4RD4VC', 'value': 4.375}\n",
      "{'_id': 'B00E4RIYPI', 'value': 4.5}\n",
      "{'_id': 'B00E4RKKVY', 'value': 4.0}\n",
      "{'_id': 'B00E4RS3DG', 'value': 4.5}\n",
      "{'_id': 'B00E4RUZGO', 'value': 2.0}\n",
      "{'_id': 'B00E4RZOQ0', 'value': 5.0}\n",
      "{'_id': 'B00E4RZQM2', 'value': 2.6}\n",
      "{'_id': 'B00E4RZU00', 'value': 4.0}\n",
      "{'_id': 'B00E4RZV6S', 'value': 3.75}\n",
      "{'_id': 'B00E4RZW44', 'value': 3.0}\n",
      "{'_id': 'B00E4RZYMO', 'value': 1.0}\n",
      "{'_id': 'B00E4S5BQ2', 'value': 5.0}\n",
      "{'_id': 'B00E4SDU0Q', 'value': 1.0}\n",
      "{'_id': 'B00E4SEBAY', 'value': 5.0}\n",
      "{'_id': 'B00E4SPPHW', 'value': 3.6666666666666665}\n",
      "{'_id': 'B00E4T58NC', 'value': 2.676470588235294}\n",
      "{'_id': 'B00E4T699E', 'value': 3.0}\n",
      "{'_id': 'B00E4T69DK', 'value': 5.0}\n",
      "{'_id': 'B00E4T6MWI', 'value': 2.0}\n",
      "{'_id': 'B00E4T7GP0', 'value': 2.0}\n",
      "{'_id': 'B00E4T7VOG', 'value': 5.0}\n",
      "{'_id': 'B00E4T8XZC', 'value': 4.666666666666667}\n",
      "{'_id': 'B00E4TADN2', 'value': 3.0}\n",
      "{'_id': 'B00E4TASKK', 'value': 3.5}\n",
      "{'_id': 'B00E4TBST0', 'value': 5.0}\n",
      "{'_id': 'B00E4TEKC2', 'value': 5.0}\n",
      "{'_id': 'B00E4TKYOU', 'value': 5.0}\n",
      "{'_id': 'B00E4TN3MA', 'value': 1.0}\n",
      "{'_id': 'B00E4TOWR0', 'value': 3.0}\n",
      "{'_id': 'B00E4TV36I', 'value': 5.0}\n",
      "{'_id': 'B00E4TWMWC', 'value': 1.0}\n",
      "{'_id': 'B00E4U83B0', 'value': 3.1333333333333333}\n",
      "{'_id': 'B00E4UA7SW', 'value': 4.571428571428571}\n",
      "{'_id': 'B00E4UD9TQ', 'value': 4.666666666666667}\n",
      "{'_id': 'B00E4UGIVC', 'value': 3.0}\n",
      "{'_id': 'B00E4UGJV6', 'value': 4.0}\n",
      "{'_id': 'B00E4UIU1I', 'value': 5.0}\n",
      "{'_id': 'B00E4UVVYG', 'value': 5.0}\n"
     ]
    }
   ],
   "source": [
    "# Limit to the first 100 entries\n",
    "average_scores = avg_scores.find().limit(100)\n",
    "\n",
    "# Now print!\n",
    "for each in average_scores:\n",
    "    pprint(each)"
   ]
  },
  {
   "cell_type": "markdown",
   "metadata": {},
   "source": [
    "<b>Use MongoDB's map reduce function to build a new collection \"weighted_avg_scores\" that averages review scores by product (\"asin\"), weighted by the number of helpful votes \n",
    "\n",
    "(The base weight is 1 and for every additional helpful vote add 1 to weight. e.g. a \"[3, 5]\" value on \"helpful\" column should use 3 + 1 = 4 as weight, 3 being the additional votes and 1 being the base weight). \n",
    "    \n",
    "Print the first 100 entries of \"weighted_avg_scores\" to screen.</b>"
   ]
  },
  {
   "cell_type": "code",
   "execution_count": 9,
   "metadata": {},
   "outputs": [],
   "source": [
    "weighted_avg_scores = db.reviews.map_reduce(\n",
    "    \"function() {emit(this.asin, {overall_scores: ((this.helpful[0]+1)*this.overall), \\\n",
    "                                 weighted_helpful_votes:(this.helpful[0]+1)});}\",\n",
    "    \n",
    "    \n",
    "                               \"function(key, values) {\"\n",
    "                    \"var reduce = {overall_scores:0, weighted_helpful_votes:0};\"  \n",
    "                    \"for (var idx = 0; idx < values.length; idx++) {\"\n",
    "                    \"reduce.overall_scores += values[idx].overall_scores;\"\n",
    "                    \"reduce.weighted_helpful_votes += values[idx].weighted_helpful_votes;};\"  \n",
    "                    \"return reduce;}\",\n",
    "    \n",
    "    \n",
    "                              out = \"weighted_avg_scores\",\n",
    "    \n",
    "    \n",
    "                               finalize = \"function (key, reduce) \\\n",
    "                               {reduce.weighted_avg_score = reduce.overall_scores / reduce.weighted_helpful_votes;\\\n",
    "                     return reduce.weighted_avg_score;}\")                                   "
   ]
  },
  {
   "cell_type": "code",
   "execution_count": 10,
   "metadata": {},
   "outputs": [
    {
     "name": "stdout",
     "output_type": "stream",
     "text": [
      "{'_id': '0132793040', 'value': 5.0}\n",
      "{'_id': 'B00E4KP4W6', 'value': 4.684210526315789}\n",
      "{'_id': 'B00E4KP8VI', 'value': 5.0}\n",
      "{'_id': 'B00E4KPMC8', 'value': 2.0}\n",
      "{'_id': 'B00E4KQ5C4', 'value': 5.0}\n",
      "{'_id': 'B00E4KQ9GG', 'value': 3.6875}\n",
      "{'_id': 'B00E4KQ9K2', 'value': 5.0}\n",
      "{'_id': 'B00E4KQD4E', 'value': 4.0}\n",
      "{'_id': 'B00E4KZBX8', 'value': 4.0}\n",
      "{'_id': 'B00E4KZDJ0', 'value': 5.0}\n",
      "{'_id': 'B00E4L35DA', 'value': 3.0}\n",
      "{'_id': 'B00E4L3N9Q', 'value': 4.0}\n",
      "{'_id': 'B00E4L48EA', 'value': 5.0}\n",
      "{'_id': 'B00E4L7FLI', 'value': 1.0}\n",
      "{'_id': 'B00E4L7TS2', 'value': 4.0}\n",
      "{'_id': 'B00E4LAL82', 'value': 3.0}\n",
      "{'_id': 'B00E4LBZZK', 'value': 5.0}\n",
      "{'_id': 'B00E4LF2Z4', 'value': 4.153846153846154}\n",
      "{'_id': 'B00E4LFP0G', 'value': 4.434782608695652}\n",
      "{'_id': 'B00E4LFWWW', 'value': 4.4}\n",
      "{'_id': 'B00E4LGTVU', 'value': 3.9064516129032256}\n",
      "{'_id': 'B00E4LGTXS', 'value': 4.0}\n",
      "{'_id': 'B00E4LGVYA', 'value': 3.8}\n",
      "{'_id': 'B00E4LGWLW', 'value': 3.8181818181818183}\n",
      "{'_id': 'B00E4LGXL6', 'value': 5.0}\n",
      "{'_id': 'B00E4LGY88', 'value': 4.248407643312102}\n",
      "{'_id': 'B00E4LI86O', 'value': 1.0}\n",
      "{'_id': 'B00E4LJ8VI', 'value': 1.6666666666666667}\n",
      "{'_id': 'B00E4LQ9B0', 'value': 1.0}\n",
      "{'_id': 'B00E4M2K08', 'value': 5.0}\n",
      "{'_id': 'B00E4M3KW0', 'value': 4.0}\n",
      "{'_id': 'B00E4M9H40', 'value': 3.25}\n",
      "{'_id': 'B00E4MC3LO', 'value': 2.0}\n",
      "{'_id': 'B00E4MHBOI', 'value': 3.0}\n",
      "{'_id': 'B00E4ML766', 'value': 5.0}\n",
      "{'_id': 'B00E4MNXYA', 'value': 5.0}\n",
      "{'_id': 'B00E4MQO8C', 'value': 4.978260869565218}\n",
      "{'_id': 'B00E4MQODW', 'value': 2.6470588235294117}\n",
      "{'_id': 'B00E4MQOE6', 'value': 4.674418604651163}\n",
      "{'_id': 'B00E4MT07Y', 'value': 1.3125}\n",
      "{'_id': 'B00E4MVHTI', 'value': 4.0}\n",
      "{'_id': 'B00E4MYDTY', 'value': 4.133333333333334}\n",
      "{'_id': 'B00E4NC912', 'value': 5.0}\n",
      "{'_id': 'B00E4O3CD0', 'value': 4.0}\n",
      "{'_id': 'B00E4O7EO8', 'value': 4.230769230769231}\n",
      "{'_id': 'B00E4OCCJK', 'value': 5.0}\n",
      "{'_id': 'B00E4OCECU', 'value': 3.5}\n",
      "{'_id': 'B00E4OHBNM', 'value': 4.0}\n",
      "{'_id': 'B00E4OHRJ0', 'value': 4.0}\n",
      "{'_id': 'B00E4OI5H8', 'value': 5.0}\n",
      "{'_id': 'B00E4OKJKY', 'value': 5.0}\n",
      "{'_id': 'B00E4OKJUE', 'value': 1.0}\n",
      "{'_id': 'B00E4OKZA8', 'value': 5.0}\n",
      "{'_id': 'B00E4ON1YK', 'value': 5.0}\n",
      "{'_id': 'B00E4OSIO8', 'value': 5.0}\n",
      "{'_id': 'B00E4PM406', 'value': 4.0}\n",
      "{'_id': 'B00E4PMDIO', 'value': 5.0}\n",
      "{'_id': 'B00E4POW42', 'value': 5.0}\n",
      "{'_id': 'B00E4PP8PY', 'value': 4.0}\n",
      "{'_id': 'B00E4QD7D8', 'value': 4.0}\n",
      "{'_id': 'B00E4QM3TC', 'value': 1.0}\n",
      "{'_id': 'B00E4QX5J4', 'value': 2.0}\n",
      "{'_id': 'B00E4RD4VC', 'value': 4.545454545454546}\n",
      "{'_id': 'B00E4RIYPI', 'value': 4.333333333333333}\n",
      "{'_id': 'B00E4RKKVY', 'value': 4.0}\n",
      "{'_id': 'B00E4RS3DG', 'value': 4.5}\n",
      "{'_id': 'B00E4RUZGO', 'value': 2.2941176470588234}\n",
      "{'_id': 'B00E4RZOQ0', 'value': 5.0}\n",
      "{'_id': 'B00E4RZQM2', 'value': 2.4285714285714284}\n",
      "{'_id': 'B00E4RZU00', 'value': 3.7857142857142856}\n",
      "{'_id': 'B00E4RZV6S', 'value': 3.75}\n",
      "{'_id': 'B00E4RZW44', 'value': 3.0}\n",
      "{'_id': 'B00E4RZYMO', 'value': 1.0}\n",
      "{'_id': 'B00E4S5BQ2', 'value': 5.0}\n",
      "{'_id': 'B00E4SDU0Q', 'value': 1.0}\n",
      "{'_id': 'B00E4SEBAY', 'value': 5.0}\n",
      "{'_id': 'B00E4SPPHW', 'value': 2.689655172413793}\n",
      "{'_id': 'B00E4T58NC', 'value': 3.206060606060606}\n",
      "{'_id': 'B00E4T699E', 'value': 3.0}\n",
      "{'_id': 'B00E4T69DK', 'value': 5.0}\n",
      "{'_id': 'B00E4T6MWI', 'value': 2.0}\n",
      "{'_id': 'B00E4T7GP0', 'value': 2.0}\n",
      "{'_id': 'B00E4T7VOG', 'value': 5.0}\n",
      "{'_id': 'B00E4T8XZC', 'value': 4.75}\n",
      "{'_id': 'B00E4TADN2', 'value': 3.0}\n",
      "{'_id': 'B00E4TASKK', 'value': 3.5}\n",
      "{'_id': 'B00E4TBST0', 'value': 5.0}\n",
      "{'_id': 'B00E4TEKC2', 'value': 5.0}\n",
      "{'_id': 'B00E4TKYOU', 'value': 5.0}\n",
      "{'_id': 'B00E4TN3MA', 'value': 1.0}\n",
      "{'_id': 'B00E4TOWR0', 'value': 3.0}\n",
      "{'_id': 'B00E4TV36I', 'value': 5.0}\n",
      "{'_id': 'B00E4TWMWC', 'value': 1.0}\n",
      "{'_id': 'B00E4U83B0', 'value': 2.7}\n",
      "{'_id': 'B00E4UA7SW', 'value': 4.769230769230769}\n",
      "{'_id': 'B00E4UD9TQ', 'value': 4.666666666666667}\n",
      "{'_id': 'B00E4UGIVC', 'value': 3.0}\n",
      "{'_id': 'B00E4UGJV6', 'value': 4.0}\n",
      "{'_id': 'B00E4UIU1I', 'value': 5.0}\n",
      "{'_id': 'B00E4UVVYG', 'value': 5.0}\n"
     ]
    }
   ],
   "source": [
    "# Limit to the first 100 entries\n",
    "weighted_average_scores = weighted_avg_scores.find().limit(100)\n",
    "\n",
    "# Now print!\n",
    "for each in weighted_average_scores:\n",
    "    pprint(each)"
   ]
  }
 ],
 "metadata": {
  "kernelspec": {
   "display_name": "Python 3",
   "language": "python",
   "name": "python3"
  },
  "language_info": {
   "codemirror_mode": {
    "name": "ipython",
    "version": 3
   },
   "file_extension": ".py",
   "mimetype": "text/x-python",
   "name": "python",
   "nbconvert_exporter": "python",
   "pygments_lexer": "ipython3",
   "version": "3.7.3"
  },
  "toc": {
   "base_numbering": 1,
   "nav_menu": {},
   "number_sections": true,
   "sideBar": true,
   "skip_h1_title": false,
   "title_cell": "Table of Contents",
   "title_sidebar": "Contents",
   "toc_cell": false,
   "toc_position": {},
   "toc_section_display": true,
   "toc_window_display": false
  },
  "varInspector": {
   "cols": {
    "lenName": 16,
    "lenType": 16,
    "lenVar": 40
   },
   "kernels_config": {
    "python": {
     "delete_cmd_postfix": "",
     "delete_cmd_prefix": "del ",
     "library": "var_list.py",
     "varRefreshCmd": "print(var_dic_list())"
    },
    "r": {
     "delete_cmd_postfix": ") ",
     "delete_cmd_prefix": "rm(",
     "library": "var_list.r",
     "varRefreshCmd": "cat(var_dic_list()) "
    }
   },
   "types_to_exclude": [
    "module",
    "function",
    "builtin_function_or_method",
    "instance",
    "_Feature"
   ],
   "window_display": false
  }
 },
 "nbformat": 4,
 "nbformat_minor": 4
}

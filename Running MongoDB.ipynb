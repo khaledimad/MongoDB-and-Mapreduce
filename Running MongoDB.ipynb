{
 "cells": [
  {
   "cell_type": "markdown",
   "metadata": {},
   "source": [
    "# Running MongoDB"
   ]
  },
  {
   "cell_type": "markdown",
   "metadata": {},
   "source": [
    "Connect your programming language of choice (Python or Java) to MongoDB."
   ]
  },
  {
   "cell_type": "code",
   "execution_count": 1,
   "metadata": {},
   "outputs": [],
   "source": [
    "# Import all required packages\n",
    "import bson\n",
    "import json\n",
    "import pprint\n",
    "import pymongo\n",
    "from pymongo import MongoClient"
   ]
  },
  {
   "cell_type": "code",
   "execution_count": 2,
   "metadata": {},
   "outputs": [
    {
     "name": "stdout",
     "output_type": "stream",
     "text": [
      "Mongo Version 3.9.0\n"
     ]
    }
   ],
   "source": [
    "# Check MongoDB Version\n",
    "print ('Mongo Version', pymongo.__version__)"
   ]
  },
  {
   "cell_type": "code",
   "execution_count": 3,
   "metadata": {},
   "outputs": [],
   "source": [
    "# Connects to the MongoDB running on localhost at port 27017\n",
    "client = MongoClient('localhost', 27017)"
   ]
  },
  {
   "cell_type": "code",
   "execution_count": 4,
   "metadata": {},
   "outputs": [],
   "source": [
    "# Creates a database name pokemon\n",
    "db = client.pokemon"
   ]
  },
  {
   "cell_type": "code",
   "execution_count": 5,
   "metadata": {},
   "outputs": [],
   "source": [
    "# Read file data\n",
    "with open('samples_pokemon.bson','rb') as file:\n",
    "    data = bson.decode_all(file.read())"
   ]
  },
  {
   "cell_type": "code",
   "execution_count": 6,
   "metadata": {},
   "outputs": [
    {
     "data": {
      "text/plain": [
       "151"
      ]
     },
     "execution_count": 6,
     "metadata": {},
     "output_type": "execute_result"
    }
   ],
   "source": [
    "# Check count\n",
    "len(data)"
   ]
  },
  {
   "cell_type": "code",
   "execution_count": 7,
   "metadata": {},
   "outputs": [],
   "source": [
    "#Loops over the data and inserts each line as a document to the database\n",
    "for i in range(len(data)):\n",
    "    db.pokemons.insert_one(data[i])"
   ]
  },
  {
   "cell_type": "code",
   "execution_count": 8,
   "metadata": {},
   "outputs": [
    {
     "name": "stdout",
     "output_type": "stream",
     "text": [
      "Ivysaur\n",
      "Charmeleon\n",
      "Wartortle\n",
      "Metapod\n",
      "Kakuna\n",
      "Pidgeotto\n",
      "Spearow\n",
      "Ekans\n",
      "Pikachu\n",
      "Sandshrew\n",
      "Nidorina\n",
      "Nidorino\n",
      "Clefairy\n",
      "Vulpix\n",
      "Jigglypuff\n",
      "Zubat\n",
      "Gloom\n",
      "Paras\n",
      "Venonat\n",
      "Diglett\n",
      "Meowth\n",
      "Psyduck\n",
      "Mankey\n",
      "Growlithe\n",
      "Poliwhirl\n",
      "Kadabra\n",
      "Machoke\n",
      "Weepinbell\n",
      "Tentacool\n",
      "Graveler\n",
      "Ponyta\n",
      "Slowpoke\n",
      "Magnemite\n",
      "Doduo\n",
      "Seel\n",
      "Grimer\n",
      "Shellder\n",
      "Haunter\n",
      "Drowzee\n",
      "Krabby\n",
      "Voltorb\n",
      "Exeggcute\n",
      "Cubone\n",
      "Koffing\n",
      "Rhyhorn\n",
      "Horsea\n",
      "Goldeen\n",
      "Staryu\n",
      "Magikarp\n",
      "Omanyte\n",
      "Kabuto\n",
      "Dragonair\n"
     ]
    },
    {
     "name": "stderr",
     "output_type": "stream",
     "text": [
      "/Users/kkhaled/anaconda3/lib/python3.7/site-packages/ipykernel_launcher.py:5: DeprecationWarning: count is deprecated. Use Collection.count_documents instead.\n",
      "  \"\"\"\n"
     ]
    }
   ],
   "source": [
    "# Query DB to filter Pokemon characters that have a candy_count of >=40.\n",
    "cc_gte40 = db.pokemons.find({\"candy_count\":{\"$gte\":40}})\n",
    "\n",
    "# Pull out names of pokemons\n",
    "for i in range(cc_gte40.count()):\n",
    "    print(cc_gte40[i]['name'])"
   ]
  },
  {
   "cell_type": "code",
   "execution_count": null,
   "metadata": {},
   "outputs": [],
   "source": []
  }
 ],
 "metadata": {
  "kernelspec": {
   "display_name": "Python 3",
   "language": "python",
   "name": "python3"
  },
  "language_info": {
   "codemirror_mode": {
    "name": "ipython",
    "version": 3
   },
   "file_extension": ".py",
   "mimetype": "text/x-python",
   "name": "python",
   "nbconvert_exporter": "python",
   "pygments_lexer": "ipython3",
   "version": "3.7.3"
  },
  "toc": {
   "base_numbering": 1,
   "nav_menu": {},
   "number_sections": true,
   "sideBar": true,
   "skip_h1_title": false,
   "title_cell": "Table of Contents",
   "title_sidebar": "Contents",
   "toc_cell": false,
   "toc_position": {},
   "toc_section_display": true,
   "toc_window_display": false
  },
  "varInspector": {
   "cols": {
    "lenName": 16,
    "lenType": 16,
    "lenVar": 40
   },
   "kernels_config": {
    "python": {
     "delete_cmd_postfix": "",
     "delete_cmd_prefix": "del ",
     "library": "var_list.py",
     "varRefreshCmd": "print(var_dic_list())"
    },
    "r": {
     "delete_cmd_postfix": ") ",
     "delete_cmd_prefix": "rm(",
     "library": "var_list.r",
     "varRefreshCmd": "cat(var_dic_list()) "
    }
   },
   "types_to_exclude": [
    "module",
    "function",
    "builtin_function_or_method",
    "instance",
    "_Feature"
   ],
   "window_display": false
  }
 },
 "nbformat": 4,
 "nbformat_minor": 4
}
